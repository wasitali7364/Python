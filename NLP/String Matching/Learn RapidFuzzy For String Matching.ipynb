{
 "cells": [
  {
   "cell_type": "markdown",
   "id": "ddb5a0e5",
   "metadata": {},
   "source": [
    "## [Read The Documentaion](https://maxbachmann.github.io/RapidFuzz/)"
   ]
  },
  {
   "cell_type": "code",
   "execution_count": 28,
   "id": "feefdc16",
   "metadata": {},
   "outputs": [],
   "source": [
    "# Install this dependent library first if using first time\n",
    "# !pip install rapidfuzz"
   ]
  },
  {
   "cell_type": "code",
   "execution_count": 105,
   "id": "9ec73e9f",
   "metadata": {},
   "outputs": [],
   "source": [
    "from rapidfuzz import fuzz\n",
    "from rapidfuzz import process\n",
    "from rapidfuzz import distance"
   ]
  },
  {
   "cell_type": "code",
   "execution_count": 53,
   "id": "8586dc38",
   "metadata": {},
   "outputs": [],
   "source": [
    "def find_ratio(a, b):\n",
    "    fr = fuzz.ratio(a, b)\n",
    "    fpr = fuzz.partial_ratio(a, b)\n",
    "    tsr = fuzz.token_sort_ratio(a, b)\n",
    "    tsetr = fuzz.token_set_ratio(a, b)\n",
    "    qr = fuzz.QRatio(a, b)\n",
    "    wr = fuzz.WRatio(a, b)\n",
    "    ptsr = fuzz.partial_token_sort_ratio(a, b)\n",
    "    ptsetr = fuzz.partial_token_set_ratio(a, b)\n",
    "    tr = fuzz.token_ratio(a, b)\n",
    "    ptr = fuzz.partial_token_ratio(a, b)\n",
    "    print(f'Text 1 is : {a}\\nText 2 is : {b}\\nFuzz Ratio is : {fr}\\nQRatio is : {qr}\\nWRatio is : {wr}\\nFuzz Partial Ratio is : {fpr}\\nToken Sort Ratio is : {tsr}\\nPartial Token Sort Ratio is : {ptsr}\\nToken Set Ratio is : {tsetr}\\nPartial Token Set Ratio is : {ptsetr}\\nToken Ratio is : {tr}\\nPartial Token Ratio is : {ptr}')"
   ]
  },
  {
   "cell_type": "code",
   "execution_count": 54,
   "id": "d41c02a7",
   "metadata": {},
   "outputs": [
    {
     "name": "stdout",
     "output_type": "stream",
     "text": [
      "Text 1 is : this is a test\n",
      "Text 2 is : this is a test!\n",
      "Fuzz Ratio is : 96.55172413793103\n",
      "QRatio is : 100.0\n",
      "WRatio is : 100.0\n",
      "Fuzz Partial Ratio is : 100.0\n",
      "Token Sort Ratio is : 100.0\n",
      "Partial Token Sort Ratio is : 100.0\n",
      "Token Set Ratio is : 100.0\n",
      "Partial Token Set Ratio is : 100.0\n",
      "Token Ratio is : 100.0\n",
      "Partial Token Ratio is : 100.0\n"
     ]
    }
   ],
   "source": [
    "a= \"this is a test\"\n",
    "b= \"this is a test!\"\n",
    "\n",
    "find_ratio(a, b)"
   ]
  },
  {
   "cell_type": "code",
   "execution_count": 56,
   "id": "8564c485",
   "metadata": {},
   "outputs": [
    {
     "name": "stdout",
     "output_type": "stream",
     "text": [
      "Text 1 is : fuzzy wuzzy was a bear\n",
      "Text 2 is : wuzzy fuzzy was a bear\n",
      "Fuzz Ratio is : 90.9090909090909\n",
      "QRatio is : 90.9090909090909\n",
      "WRatio is : 95.0\n",
      "Fuzz Partial Ratio is : 93.02325581395348\n",
      "Token Sort Ratio is : 100.0\n",
      "Partial Token Sort Ratio is : 100.0\n",
      "Token Set Ratio is : 100.0\n",
      "Partial Token Set Ratio is : 100.0\n",
      "Token Ratio is : 100.0\n",
      "Partial Token Ratio is : 100.0\n"
     ]
    }
   ],
   "source": [
    "a = \"fuzzy wuzzy was a bear\"\n",
    "b = \"wuzzy fuzzy was a bear\"\n",
    "\n",
    "find_ratio(a, b)"
   ]
  },
  {
   "cell_type": "code",
   "execution_count": 57,
   "id": "a4e27760",
   "metadata": {},
   "outputs": [
    {
     "name": "stdout",
     "output_type": "stream",
     "text": [
      "Text 1 is : fuzzy was a bear\n",
      "Text 2 is : fuzzy fuzzy was a bear\n",
      "Fuzz Ratio is : 84.21052631578947\n",
      "QRatio is : 84.21052631578947\n",
      "WRatio is : 95.0\n",
      "Fuzz Partial Ratio is : 100.0\n",
      "Token Sort Ratio is : 84.21052631578947\n",
      "Partial Token Sort Ratio is : 89.65517241379311\n",
      "Token Set Ratio is : 100.0\n",
      "Partial Token Set Ratio is : 100.0\n",
      "Token Ratio is : 100.0\n",
      "Partial Token Ratio is : 100.0\n"
     ]
    }
   ],
   "source": [
    "a = \"fuzzy was a bear\"\n",
    "b = \"fuzzy fuzzy was a bear\"\n",
    "\n",
    "find_ratio(a, b)"
   ]
  },
  {
   "cell_type": "code",
   "execution_count": 58,
   "id": "a00f9f84",
   "metadata": {},
   "outputs": [
    {
     "data": {
      "text/plain": [
       "[('New York Giants', 85.5, 2),\n",
       " ('New York Jets', 45.45454545454546, 1),\n",
       " ('Atlanta Falcons', 42.35294117647059, 0),\n",
       " ('Dallas Cowboys', 32.727272727272734, 3)]"
      ]
     },
     "execution_count": 58,
     "metadata": {},
     "output_type": "execute_result"
    }
   ],
   "source": [
    "choices = [\"Atlanta Falcons\", \"New York Jets\", \"New York Giants\", \"Dallas Cowboys\"]\n",
    "process.extract(\"NY Giants\", choices)"
   ]
  },
  {
   "cell_type": "code",
   "execution_count": 59,
   "id": "81a48f42",
   "metadata": {},
   "outputs": [
    {
     "data": {
      "text/plain": [
       "('New York Giants', 85.5, 2)"
      ]
     },
     "execution_count": 59,
     "metadata": {},
     "output_type": "execute_result"
    }
   ],
   "source": [
    "choices = [\"Atlanta Falcons\", \"New York Jets\", \"New York Giants\", \"Dallas Cowboys\"]\n",
    "process.extractOne(\"NY Giants\", choices)"
   ]
  },
  {
   "cell_type": "code",
   "execution_count": 60,
   "id": "2b6e2fe5",
   "metadata": {},
   "outputs": [
    {
     "name": "stdout",
     "output_type": "stream",
     "text": [
      "Text 1 is : NY Giants\n",
      "Text 2 is : New York Giants\n",
      "Fuzz Ratio is : 75.0\n",
      "QRatio is : 75.0\n",
      "WRatio is : 85.5\n",
      "Fuzz Partial Ratio is : 87.5\n",
      "Token Sort Ratio is : 75.0\n",
      "Partial Token Sort Ratio is : 94.11764705882352\n",
      "Token Set Ratio is : 80.0\n",
      "Partial Token Set Ratio is : 100.0\n",
      "Token Ratio is : 80.0\n",
      "Partial Token Ratio is : 100.0\n"
     ]
    }
   ],
   "source": [
    "find_ratio(\"NY Giants\", \"New York Giants\")"
   ]
  },
  {
   "cell_type": "code",
   "execution_count": 127,
   "id": "fba30475",
   "metadata": {},
   "outputs": [
    {
     "data": {
      "text/plain": [
       "0.8466666666666667"
      ]
     },
     "execution_count": 127,
     "metadata": {},
     "output_type": "execute_result"
    }
   ],
   "source": [
    "distance.JaroWinkler.similarity(\"NY Giants\", \"New York Giants\")"
   ]
  },
  {
   "cell_type": "code",
   "execution_count": 61,
   "id": "0d8abdd3",
   "metadata": {},
   "outputs": [
    {
     "data": {
      "text/plain": [
       "[('samsung', 90.0, 0),\n",
       " ('samsung private limited', 85.5, 2),\n",
       " ('sansui', 65.45454545454547, 1)]"
      ]
     },
     "execution_count": 61,
     "metadata": {},
     "output_type": "execute_result"
    }
   ],
   "source": [
    "choices = [\"samsung\",\"sansui\",\"samsung private limited\"]\n",
    "process.extract(\"samsung pvt ltd\", choices)"
   ]
  },
  {
   "cell_type": "code",
   "execution_count": 78,
   "id": "83e6f501",
   "metadata": {},
   "outputs": [
    {
     "data": {
      "text/plain": [
       "[('samsung private limited', 78.94736842105263, 2),\n",
       " ('samsung', 63.63636363636363, 0),\n",
       " ('sansui', 38.095238095238095, 1)]"
      ]
     },
     "execution_count": 78,
     "metadata": {},
     "output_type": "execute_result"
    }
   ],
   "source": [
    "choices = [\"samsung\",\"sansui\",\"samsung private limited\"]\n",
    "process.extract(\"samsung pvt ltd\", choices, scorer=fuzz.token_sort_ratio)"
   ]
  },
  {
   "cell_type": "code",
   "execution_count": 144,
   "id": "c6680e31",
   "metadata": {},
   "outputs": [
    {
     "data": {
      "text/plain": [
       "[('samsung', 100.0, 0),\n",
       " ('samsung private limited', 100.0, 2),\n",
       " ('sansui', 66.66666666666667, 1)]"
      ]
     },
     "execution_count": 144,
     "metadata": {},
     "output_type": "execute_result"
    }
   ],
   "source": [
    "choices = [\"samsung\",\"sansui\",\"samsung private limited\"]\n",
    "process.extract(\"samsung pvt ltd\", choices, scorer=fuzz.partial_token_set_ratio)"
   ]
  },
  {
   "cell_type": "code",
   "execution_count": 148,
   "id": "22b0256f",
   "metadata": {},
   "outputs": [
    {
     "data": {
      "text/plain": [
       "[('samsung private limited', 0.9304347826086957, 2),\n",
       " ('samsung', 0.8933333333333334, 0),\n",
       " ('sansui', 0.6555555555555556, 1)]"
      ]
     },
     "execution_count": 148,
     "metadata": {},
     "output_type": "execute_result"
    }
   ],
   "source": [
    "choices = [\"samsung\",\"sansui\",\"samsung private limited\"]\n",
    "process.extract(\"samsung pvt ltd\", choices, scorer=distance.JaroWinkler.similarity)"
   ]
  },
  {
   "cell_type": "code",
   "execution_count": 88,
   "id": "3406d00c",
   "metadata": {},
   "outputs": [
    {
     "data": {
      "text/plain": [
       "[('SOLUTIA CHEMICALS INDIA PVT.LTD.', 90.625, 0),\n",
       " ('TROY CHEMICAL INDIA PVT LTD', 73.33333333333334, 1),\n",
       " ('Zinka Logistics Solutions Pte', 48.38709677419355, 3),\n",
       " ('Grow Max India Pte', 47.05882352941177, 4),\n",
       " ('Indorama Ventures Oxides', 35.08771929824562, 2)]"
      ]
     },
     "execution_count": 88,
     "metadata": {},
     "output_type": "execute_result"
    }
   ],
   "source": [
    "choices = [\"SOLUTIA CHEMICALS INDIA PVT.LTD.\",\"TROY CHEMICAL INDIA PVT LTD\",\"Indorama Ventures Oxides\",\"Zinka Logistics Solutions Pte\",\"Grow Max India Pte\"]\n",
    "process.extract(\"SOLUTIA CHEMICALS INDIA PRIVATE L\", choices, scorer=fuzz.token_ratio)"
   ]
  },
  {
   "cell_type": "code",
   "execution_count": 91,
   "id": "1432b55e",
   "metadata": {},
   "outputs": [
    {
     "data": {
      "text/plain": [
       "('SOLUTIA CHEMICALS INDIA PVT.LTD.', 90.625, 0)"
      ]
     },
     "execution_count": 91,
     "metadata": {},
     "output_type": "execute_result"
    }
   ],
   "source": [
    "choices = [\"SOLUTIA CHEMICALS INDIA PVT.LTD.\",\"TROY CHEMICAL INDIA PVT LTD\",\"Indorama Ventures Oxides\",\"Zinka Logistics Solutions Pte\",\"Grow Max India Pte\"]\n",
    "process.extractOne(\"SOLUTIA CHEMICALS INDIA PRIVATE L\", choices, scorer= fuzz.token_ratio, score_cutoff=85)"
   ]
  },
  {
   "cell_type": "code",
   "execution_count": 109,
   "id": "ef5b2239",
   "metadata": {},
   "outputs": [
    {
     "data": {
      "text/plain": [
       "[('SOLUTIA CHEMICALS INDIA PVT.LTD.', 0.9628543499511242, 0),\n",
       " ('TROY CHEMICAL INDIA PVT LTD', 0.6901868930854439, 1),\n",
       " ('Zinka Logistics Solutions Pte', 0.6208363123063668, 3),\n",
       " ('Grow Max India Pte', 0.6149591149591149, 4),\n",
       " ('Indorama Ventures Oxides', 0.5921717171717171, 2)]"
      ]
     },
     "execution_count": 109,
     "metadata": {},
     "output_type": "execute_result"
    }
   ],
   "source": [
    "choices = [\"SOLUTIA CHEMICALS INDIA PVT.LTD.\",\"TROY CHEMICAL INDIA PVT LTD\",\"Indorama Ventures Oxides\",\"Zinka Logistics Solutions Pte\",\"Grow Max India Pte\"]\n",
    "process.extract(\"SOLUTIA CHEMICALS INDIA PRIVATE L\", choices, scorer = distance.JaroWinkler.similarity)"
   ]
  },
  {
   "cell_type": "code",
   "execution_count": 129,
   "id": "9bbb6910",
   "metadata": {},
   "outputs": [
    {
     "data": {
      "text/plain": [
       "[('samsung private limited', 0.9179347826086958, 2), ('samsung', 0.8875, 0)]"
      ]
     },
     "execution_count": 129,
     "metadata": {},
     "output_type": "execute_result"
    }
   ],
   "source": [
    "choices = [\"samsung\",\"sansui\",\"samsung private limited\", \"sam sung\"]\n",
    "process.extract(\"samsung pvt. ltd.\", choices, scorer=distance.JaroWinkler.similarity, score_cutoff=0.85)"
   ]
  },
  {
   "cell_type": "code",
   "execution_count": 154,
   "id": "075a9b47",
   "metadata": {},
   "outputs": [
    {
     "name": "stdout",
     "output_type": "stream",
     "text": [
      "--- 2.0819079875946045 seconds ---\n"
     ]
    }
   ],
   "source": [
    "import time\n",
    "start_time = time.time()\n",
    "choices = [\"samsung\",\"sansui\",\"samsung private limited\", \"sam sung\", \"rk private limited\"]\n",
    "for i in range(1000000):\n",
    "    process.extractOne(\"kr private limited\", choices, scorer=distance.JaroWinkler.similarity, score_cutoff=0.85)\n",
    "print(\"--- %s seconds ---\" % (time.time() - start_time))"
   ]
  }
 ],
 "metadata": {
  "kernelspec": {
   "display_name": "Python 3 (ipykernel)",
   "language": "python",
   "name": "python3"
  },
  "language_info": {
   "codemirror_mode": {
    "name": "ipython",
    "version": 3
   },
   "file_extension": ".py",
   "mimetype": "text/x-python",
   "name": "python",
   "nbconvert_exporter": "python",
   "pygments_lexer": "ipython3",
   "version": "3.9.13"
  }
 },
 "nbformat": 4,
 "nbformat_minor": 5
}
